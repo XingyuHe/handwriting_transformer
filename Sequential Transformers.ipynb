{
 "cells": [
  {
   "cell_type": "code",
   "execution_count": 1,
   "id": "836eb3ae",
   "metadata": {},
   "outputs": [],
   "source": [
    "import torch\n",
    "from torch import nn\n",
    "import torch.nn.functional as F\n",
    "\n",
    "from data.data import *\n",
    "from utils import *\n",
    "from params import *\n",
    "\n",
    "import math\n",
    "\n",
    "SEQUENCE_LENGTH = 400\n",
    "U_ITEMS = int(SEQUENCE_LENGTH / 25)\n"
   ]
  },
  {
   "cell_type": "markdown",
   "id": "ca3c357e",
   "metadata": {},
   "source": [
    "# Design"
   ]
  },
  {
   "cell_type": "markdown",
   "id": "1feb9203",
   "metadata": {},
   "source": [
    "## Decoder\n",
    "\n",
    "mmeory: B x L_c x D_model\n",
    "tgt: B x L_s x 3\n",
    "\n",
    "Decoding step: \n",
    "1. Linear layer to convert tgt to B x L_s x D_model\n",
    "2. Perform convolution; each convolution kernel move along L_s\n",
    "3. Attention over these convolution kernel\n",
    "    1. in self attention, query is the tgt, key is the convoluted tgt and the value the convoluted tgt"
   ]
  },
  {
   "cell_type": "markdown",
   "id": "72b2846d",
   "metadata": {},
   "source": [
    "\n",
    "# Implementation"
   ]
  },
  {
   "cell_type": "markdown",
   "id": "13e5a981",
   "metadata": {},
   "source": [
    "## Data"
   ]
  },
  {
   "cell_type": "code",
   "execution_count": 2,
   "id": "c274ae8c",
   "metadata": {},
   "outputs": [
    {
     "name": "stdout",
     "output_type": "stream",
     "text": [
      "train size 11034\n",
      "val size 581\n",
      "test size 11615\n",
      "x.shape torch.Size([3, 608, 2])\n",
      "x_len.shape torch.Size([3])\n",
      "y.shape torch.Size([3, 608, 2])\n",
      "c.shape torch.Size([3, 31])\n"
     ]
    }
   ],
   "source": [
    "data_loader = DataReader('data/processed')\n",
    "data_gen = data_loader.train_batch_generator(3)\n",
    "batch = None\n",
    "for b in data_gen:\n",
    "    batch = b\n",
    "    break\n",
    "    \n",
    "x = batch['x']\n",
    "x_len = batch['x_len']\n",
    "y = batch['y']\n",
    "c = batch['c']\n",
    "c_len = batch['c_len']\n",
    "\n",
    "assert((x[:, 1:, :] == y[:, :-1, :]).all())\n",
    "\n",
    "print(\"x.shape\", x.shape)\n",
    "print(\"x_len.shape\", x_len.shape)\n",
    "print(\"y.shape\", y.shape)\n",
    "print(\"c.shape\", c.shape)"
   ]
  },
  {
   "cell_type": "code",
   "execution_count": 3,
   "id": "8370d16b",
   "metadata": {},
   "outputs": [
    {
     "name": "stdout",
     "output_type": "stream",
     "text": [
      "torch.int64\n"
     ]
    },
    {
     "data": {
      "image/png": "[encoded data removed]",
      "text/plain": [
       "<Figure size 432x288 with 1 Axes>"
      ]
     },
     "metadata": {
      "needs_background": "light"
     },
     "output_type": "display_data"
    }
   ],
   "source": [
    "# print(\"source string\", num_to_string(c.squeeze().tolist()))\n",
    "print(c.dtype)\n",
    "draw(x[2, :, :], None)"
   ]
  },
  {
   "cell_type": "code",
   "execution_count": 4,
   "id": "add0c79b",
   "metadata": {},
   "outputs": [],
   "source": [
    "class Debugger:\n",
    "    def __init__(self, function_name, debug=True):\n",
    "        self.function_name = function_name\n",
    "        self.debug = debug\n",
    "    \n",
    "    def print(self, *argv):\n",
    "        if self.debug:\n",
    "            print(\"[{}]\".format(self.function_name), argv, sep=\" \")\n"
   ]
  },
  {
   "cell_type": "markdown",
   "id": "3552931f",
   "metadata": {},
   "source": [
    "## Convolution \n",
    "\n",
    "tgt: B x L x 3\n",
    "we can view 3 as the input channel size. \n",
    "\n",
    "tgt: B x L x D_model "
   ]
  },
  {
   "cell_type": "code",
   "execution_count": 5,
   "id": "57c752fc",
   "metadata": {},
   "outputs": [],
   "source": [
    "def clones(module, N):\n",
    "    \"\"\"Produce N identical layers.\"\"\"\n",
    "    return nn.ModuleList([copy.deepcopy(module) for _ in range(N)])\n",
    "\n",
    "def attention(query, key, value, mask=None, dropout=None):\n",
    "    \"Compute 'Scaled Dot Product Attention'\"\n",
    "    d_k = query.size(-1)\n",
    "    scores = torch.matmul(query, key.transpose(-2, -1)) \\\n",
    "             / math.sqrt(d_k)\n",
    "    if mask is not None:\n",
    "        scores = scores.masked_fill(mask == 0, -1e9)\n",
    "    p_attn = F.softmax(scores, dim = -1)\n",
    "    if dropout is not None:\n",
    "        p_attn = dropout(p_attn)\n",
    "    return torch.matmul(p_attn, value), p_attn"
   ]
  },
  {
   "cell_type": "code",
   "execution_count": 6,
   "id": "c98b819c",
   "metadata": {},
   "outputs": [],
   "source": [
    "class PositionalEncoding(nn.Module):\n",
    "    \"Implement the PE function.\"\n",
    "    def __init__(self):\n",
    "        super(PositionalEncoding, self).__init__()\n",
    "        max_len = max(MAX_CHAR_LEN, MAX_STROKE_LEN)\n",
    "        self.dropout = nn.Dropout(p=TF_DROPOUT)\n",
    "\n",
    "        # Compute the positional encodings once in log space.\n",
    "        pe = torch.zeros(max_len, TF_D_MODEL, requires_grad=False)\n",
    "        position = torch.arange(0, max_len).unsqueeze(1)\n",
    "        div_term = torch.exp(torch.arange(0, TF_D_MODEL, 2) *\n",
    "                             -(math.log(10000.0) / TF_D_MODEL))\n",
    "        pe[:, 0::2] = torch.sin(position * div_term)\n",
    "        pe[:, 1::2] = torch.cos(position * div_term)\n",
    "        pe = pe.unsqueeze(0)\n",
    "        self.register_buffer('pe', pe)\n",
    "\n",
    "    def forward(self, x):\n",
    "        with torch.no_grad():\n",
    "            x = x + self.pe[:, :x.size(1)]\n",
    "            return self.dropout(x)\n",
    "\n",
    "class TFHW_Convolution(nn.Module):\n",
    "    def __init__(self, d_model = TF_D_MODEL, d_stroke = D_STROKE, num_heads = TF_N_HEADS,\n",
    "                    dim_feedforward=TF_DIM_FEEDFORWARD,\n",
    "                 out_channels = OUT_CHANNELS, kernel_size = KERNEL_SIZE, stride = STRIDE, padding=KERNEL_SIZE,\n",
    "                 alphabet_size = ALPHABET_SIZE, max_stroke_len = MAX_STROKE_LEN, debug=False) -> None:\n",
    "        super(TFHW_Convolution, self).__init__()\n",
    "\n",
    "\n",
    "        self.alphabet_size = alphabet_size\n",
    "        self.max_stroke_len = max_stroke_len\n",
    "\n",
    "        self.d_model = d_model\n",
    "\n",
    "        self.out_channels = out_channels\n",
    "        self.kernel_size = kernel_size\n",
    "        self.stride = stride\n",
    "        self.padding = padding\n",
    "\n",
    "        self.encoder = nn.Sequential(nn.Embedding(alphabet_size, d_model), PositionalEncoding())\n",
    "\n",
    "        self.tgt_embed = nn.Sequential(nn.Linear(d_stroke, d_model), PositionalEncoding())\n",
    "        self.tgt_conv_embed = nn.Linear(out_channels, d_model)\n",
    "        self.conv1d = nn.Conv1d(\n",
    "            in_channels=d_stroke, out_channels=out_channels,\n",
    "            kernel_size=kernel_size, stride=stride, padding = padding\n",
    "        )\n",
    "        self.conv_attention = nn.MultiheadAttention(\n",
    "            embed_dim=d_model, num_heads=num_heads, batch_first=True\n",
    "        )\n",
    "        self.conv_attn_mask = self.convolution_attention_mask().to(DEVICE)\n",
    "        # shape: MAX_SEQ_LEN x MAX_SEQ_LEN\n",
    "        self.multi_head_attn = nn.MultiheadAttention(\n",
    "            embed_dim=d_model, num_heads=num_heads, batch_first=True\n",
    "        )\n",
    "\n",
    "        self.norm1 = nn.LayerNorm(d_model)\n",
    "        self.norm2 = nn.LayerNorm(d_model)\n",
    "        self.norm3 = nn.LayerNorm(d_model)\n",
    "        self.linear1 = nn.Linear(d_model, dim_feedforward)\n",
    "        self.linear2 = nn.Linear(dim_feedforward, d_model)\n",
    "        self.activation = F.relu\n",
    "\n",
    "        self.generator = nn.Linear(d_model, d_stroke)\n",
    "\n",
    "        self._reset_parameters()\n",
    "        self.debugger = Debugger(\"TFHW_Convolution\", debug)\n",
    "\n",
    "    def encode(self, c):\n",
    "        encoding = self.encoder(c)\n",
    "        self.debugger.print(\"encoding shape\", encoding.shape)\n",
    "\n",
    "        return encoding\n",
    "\n",
    "    def decode(self, tgt, mem, conv_tgt_mask, mem_mask, conv_tgt_padding_mask, mem_padding_mask):\n",
    "\n",
    "        self.debugger.print(\"tgt shape\", tgt.shape)\n",
    "\n",
    "        tgt_embed = self.tgt_embed(tgt)\n",
    "\n",
    "        # convolve\n",
    "        # convolution requires in B x Cin x Lin\n",
    "        tgt_conv_in = tgt.transpose(-1, -2)\n",
    "\n",
    "        self.debugger.print(\"tgt_conv_in shape\", tgt_conv_in.shape)\n",
    "        tgt_conv_out = self.conv1d(tgt_conv_in).transpose(-1, -2) # B x L out x C out\n",
    "        tgt_conv_embed = self.tgt_conv_embed(tgt_conv_out)\n",
    "\n",
    "        self.debugger.print(\"tgt_conv_embed shape\", tgt_conv_embed.shape)\n",
    "\n",
    "#         post_kernel_tgt_embed = tgt_embed[:, self.kernel_size:, :]\n",
    "        self.debugger.print(\"tgt_embed shape\", tgt_embed.shape)\n",
    "\n",
    "        # tranformer block\n",
    "\n",
    "        self.debugger.print(\"tgt_conv_embed \", tgt_conv_embed)\n",
    "        self.debugger.print(\"tgt_embed \", tgt_embed)\n",
    "        self.debugger.print(\"new conv_tgt_mask shape \", conv_tgt_mask[self.kernel_size:, :])\n",
    "        self.debugger.print(\"new conv_tgt_mask shape \", conv_tgt_mask[self.kernel_size:, :].shape)\n",
    "#         self.debugger.print(\"post_kernel_tgt_embed shape\", post_kernel_tgt_embed.shape)\n",
    "\n",
    "        # self-attention with convolution\n",
    "        x = tgt_embed + self.conv_attention(\n",
    "            query = tgt_embed,\n",
    "            key=tgt_conv_embed,\n",
    "            value=tgt_conv_embed,\n",
    "            key_padding_mask=conv_tgt_padding_mask,\n",
    "            attn_mask=conv_tgt_mask,\n",
    "            need_weights = False\n",
    "        )[0]\n",
    "\n",
    "\n",
    "        x = self.norm1(x)\n",
    "        self.debugger.print(\"norm1 x \", )\n",
    "        self.debugger.print(\"x shape\", x.shape)\n",
    "        self.debugger.print(\"mem type\", mem.dtype)\n",
    "        # multi-headed attention with mem\n",
    "        x = x + self.multi_head_attn(\n",
    "            query = x,\n",
    "            key = mem,\n",
    "            value = mem,\n",
    "            attn_mask = mem_mask,\n",
    "            key_padding_mask = mem_padding_mask,\n",
    "            need_weights = False\n",
    "        )[0]\n",
    "        x = self.norm2(x)\n",
    "        self.debugger.print(\"norm2 x \", )\n",
    "\n",
    "        # linear layer\n",
    "        x = self.linear2(self.activation(self.linear1(x)))\n",
    "        x = self.norm3(x)\n",
    "\n",
    "        # transformer block ends\n",
    "\n",
    "        self.debugger.print(\"x \", )\n",
    "        return self.generator(x)\n",
    "\n",
    "\n",
    "    def forward(self, batch):\n",
    "        x, c, x_len, c_len = batch['x'], batch['c'], batch['x_len'], batch['c_len']\n",
    "        B, L, _ = x.shape\n",
    "\n",
    "        mem = self.encode(c)\n",
    "\n",
    "        conv_tgt_len = self.l_in_to_l_out(L, self.kernel_size, self.stride, self.padding)\n",
    "\n",
    "        if conv_tgt_len > 0: # x is not long enough sequentially for a kernel\n",
    "            conv_tgt_mask = self.conv_attn_mask[:L, :conv_tgt_len]\n",
    "            conv_tgt_padding_mask = self.convolution_padding_mask(conv_tgt_len, x_len).to(DEVICE)\n",
    "            self.debugger.print(\"conv_tgt_mask shape\", conv_tgt_mask.shape)\n",
    "            self.debugger.print(\"conv_tgt_padding_mask shape\", conv_tgt_padding_mask.shape)\n",
    "            self.debugger.print(\"conv_tgt_padding_mask pad count\", torch.sum(conv_tgt_padding_mask, dim=1))\n",
    "        else:\n",
    "            conv_tgt_mask = None\n",
    "            conv_tgt_padding_mask = None\n",
    "\n",
    "        mem_padding_mask = create_pad_mask(c, c_len).to(DEVICE)\n",
    "\n",
    "        self.debugger.print(\"tgt shape\", x.shape)\n",
    "        self.debugger.print(\"mem_padding_mask shape\", mem_padding_mask.shape)\n",
    "\n",
    "        decoding = self.decode(x, mem, conv_tgt_mask, None, conv_tgt_padding_mask, mem_padding_mask)\n",
    "        return decoding\n",
    "\n",
    "    def loss_fn(self, decode_strokes, batch):\n",
    "        tgt_strokes = batch['y']\n",
    "\n",
    "        mask = create_pad_mask(decode_strokes, batch['x_len']).to(DEVICE)\n",
    "\n",
    "        coord_loss = F.mse_loss(tgt_strokes[..., :2], decode_strokes[..., :2], reduction=\"none\")\n",
    "        self.debugger.print(\"coord_loss \", coord_loss)\n",
    "        coord_mask = mask.unsqueeze(-1).expand(coord_loss.shape)\n",
    "        coord_loss = coord_loss.masked_fill_(coord_mask, 0)\n",
    "        self.debugger.print(\"coord_loss \", coord_loss)\n",
    "        coord_loss = torch.sum(coord_loss) / torch.sum(coord_mask == False)\n",
    "\n",
    "        self.debugger.print(\"coord_loss shape\", coord_loss.shape)\n",
    "\n",
    "        return coord_loss\n",
    "\n",
    "    def convolution_attention_mask(self):\n",
    "        mask = create_pad_mask_by_len(\n",
    "            self.l_in_to_l_out(self.max_stroke_len, self.kernel_size, self.stride, self.padding),\n",
    "            torch.tensor([self.l_in_to_l_out(i, self.kernel_size, self.stride, self.padding) for i in range(self.max_stroke_len)])\n",
    "        )\n",
    "\n",
    "#         mask[:, 0] = False # so that multiheaded attention don't have nan\n",
    "        return mask\n",
    "\n",
    "    def convolution_padding_mask(self, conv_tgt_len, tgt_len):\n",
    "        self.debugger.print(\n",
    "            \"len\",\n",
    "            conv_tgt_len\n",
    "        )\n",
    "\n",
    "        return create_pad_mask_by_len(\n",
    "            conv_tgt_len,\n",
    "            torch.tensor([self.l_in_to_l_out_ceil(l, self.kernel_size, self.stride, self.padding) for l in tgt_len])\n",
    "        )\n",
    "\n",
    "    def l_in_to_l_out(self, l_in, kernel_size, stride, padding, dilation=1):\n",
    "        return math.floor(\n",
    "            (l_in + 2 * padding - dilation * (kernel_size - 1) - 1) / stride + 1\n",
    "        )\n",
    "\n",
    "    def l_in_to_l_out_ceil(self, l_in, kernel_size, stride, padding, dilation=1):\n",
    "        return math.ceil(\n",
    "            (l_in + 2 * padding - dilation * (kernel_size - 1) - 1) / stride + 1\n",
    "        )\n",
    "\n",
    "    def _reset_parameters(self):\n",
    "        r\"\"\"Initiate parameters in the transformer model.\"\"\"\n",
    "\n",
    "        for p in self.parameters():\n",
    "            if p.dim() > 1:\n",
    "                nn.init.xavier_uniform_(p)\n",
    "\n",
    "\n",
    "\n"
   ]
  },
  {
   "cell_type": "code",
   "execution_count": 7,
   "id": "8af8897d",
   "metadata": {},
   "outputs": [],
   "source": [
    "def train_loop(model, optimizer, batch):\n",
    "    optimizer.zero_grad()\n",
    "    output = model(batch)\n",
    "    loss = model.loss_fn(output, batch)\n",
    "    loss.backward()\n",
    "    optimizer.step()\n",
    "    return loss"
   ]
  },
  {
   "cell_type": "code",
   "execution_count": 8,
   "id": "25d882f4",
   "metadata": {},
   "outputs": [
    {
     "name": "stdout",
     "output_type": "stream",
     "text": [
      "17.150676727294922\n"
     ]
    }
   ],
   "source": [
    "model = TFHW_Convolution(debug=False).to(DEVICE)\n",
    "optimizer = torch.optim.Adam(\n",
    "    model.parameters(),\n",
    "    lr=0.0001, betas=(0.0, 0.999), weight_decay=0, eps=1e-8\n",
    ")\n",
    "train_losses = []\n",
    "for epoch in range(EPOCHS):\n",
    "#     train_data = data_reader.train_batch_generator(BATCH_SIZE)\n",
    "#     val_data = data_reader.test_batch_generator(BATCH_SIZE)\n",
    "    wandb_log = {}\n",
    "    wandb_log[\"train_loss\"] = 0\n",
    "\n",
    "#     for batch in train_data:\n",
    "    B, L, _ = batch['x'].shape\n",
    "    loss = train_loop(model, optimizer, batch)\n",
    "    wandb_log[\"train_loss\"] += batch['x'].shape[0] * loss.item()\n",
    "    print(wandb_log[\"train_loss\"])\n",
    "    train_losses.append(wandb_log['train_loss'])\n",
    "    \n",
    "    break"
   ]
  },
  {
   "cell_type": "code",
   "execution_count": 9,
   "id": "73d232e8",
   "metadata": {
    "scrolled": true
   },
   "outputs": [
    {
     "data": {
      "image/png": "[encoded data removed]",
      "text/plain": [
       "<Figure size 432x288 with 1 Axes>"
      ]
     },
     "metadata": {
      "needs_background": "light"
     },
     "output_type": "display_data"
    }
   ],
   "source": [
    "draw(batch[\"x\"][0])"
   ]
  },
  {
   "cell_type": "code",
   "execution_count": 10,
   "id": "c000190d",
   "metadata": {},
   "outputs": [],
   "source": [
    "def predict_no_guidance(model, batch):\n",
    "    \"\"\"_summary_\n",
    "\n",
    "    Args:\n",
    "        batch_seq_char (N, L): sequence of character using the ALPHABET indexing\n",
    "        batch_seq_char_len (N): lenght of each sequence in the batch\n",
    "    \"\"\"\n",
    "    print(\"pred\")\n",
    "    tgt = torch.zeros(size=[1, 1, 2]).to(DEVICE)\n",
    "    sequence_length = batch['c_len'].item() * 25\n",
    "\n",
    "    with torch.no_grad():\n",
    "        while tgt.shape[1] < sequence_length:\n",
    "            batch['x'] = tgt\n",
    "            batch['x_len'] = np.asarray([tgt.shape[1]])\n",
    "            out = model(batch)\n",
    "            tgt = torch.cat([tgt, out[:, [-1], :]], 1)\n",
    "            print(out.shape, tgt.shape)\n",
    "\n",
    "    return tgt\n"
   ]
  },
  {
   "cell_type": "code",
   "execution_count": 11,
   "id": "f6dd0e51",
   "metadata": {},
   "outputs": [
    {
     "name": "stdout",
     "output_type": "stream",
     "text": [
      "pred\n",
      "torch.Size([1, 1, 2]) torch.Size([1, 2, 2])\n",
      "torch.Size([1, 2, 2]) torch.Size([1, 3, 2])\n",
      "torch.Size([1, 3, 2]) torch.Size([1, 4, 2])\n",
      "torch.Size([1, 4, 2]) torch.Size([1, 5, 2])\n",
      "torch.Size([1, 5, 2]) torch.Size([1, 6, 2])\n",
      "torch.Size([1, 6, 2]) torch.Size([1, 7, 2])\n",
      "torch.Size([1, 7, 2]) torch.Size([1, 8, 2])\n",
      "torch.Size([1, 8, 2]) torch.Size([1, 9, 2])\n",
      "torch.Size([1, 9, 2]) torch.Size([1, 10, 2])\n",
      "torch.Size([1, 10, 2]) torch.Size([1, 11, 2])\n",
      "torch.Size([1, 11, 2]) torch.Size([1, 12, 2])\n",
      "torch.Size([1, 12, 2]) torch.Size([1, 13, 2])\n",
      "torch.Size([1, 13, 2]) torch.Size([1, 14, 2])\n",
      "torch.Size([1, 14, 2]) torch.Size([1, 15, 2])\n",
      "torch.Size([1, 15, 2]) torch.Size([1, 16, 2])\n",
      "torch.Size([1, 16, 2]) torch.Size([1, 17, 2])\n",
      "torch.Size([1, 17, 2]) torch.Size([1, 18, 2])\n",
      "torch.Size([1, 18, 2]) torch.Size([1, 19, 2])\n",
      "torch.Size([1, 19, 2]) torch.Size([1, 20, 2])\n",
      "torch.Size([1, 20, 2]) torch.Size([1, 21, 2])\n",
      "torch.Size([1, 21, 2]) torch.Size([1, 22, 2])\n",
      "torch.Size([1, 22, 2]) torch.Size([1, 23, 2])\n",
      "torch.Size([1, 23, 2]) torch.Size([1, 24, 2])\n",
      "torch.Size([1, 24, 2]) torch.Size([1, 25, 2])\n",
      "torch.Size([1, 25, 2]) torch.Size([1, 26, 2])\n",
      "torch.Size([1, 26, 2]) torch.Size([1, 27, 2])\n",
      "torch.Size([1, 27, 2]) torch.Size([1, 28, 2])\n",
      "torch.Size([1, 28, 2]) torch.Size([1, 29, 2])\n",
      "torch.Size([1, 29, 2]) torch.Size([1, 30, 2])\n",
      "torch.Size([1, 30, 2]) torch.Size([1, 31, 2])\n",
      "torch.Size([1, 31, 2]) torch.Size([1, 32, 2])\n",
      "torch.Size([1, 32, 2]) torch.Size([1, 33, 2])\n",
      "torch.Size([1, 33, 2]) torch.Size([1, 34, 2])\n",
      "torch.Size([1, 34, 2]) torch.Size([1, 35, 2])\n",
      "torch.Size([1, 35, 2]) torch.Size([1, 36, 2])\n",
      "torch.Size([1, 36, 2]) torch.Size([1, 37, 2])\n",
      "torch.Size([1, 37, 2]) torch.Size([1, 38, 2])\n",
      "torch.Size([1, 38, 2]) torch.Size([1, 39, 2])\n",
      "torch.Size([1, 39, 2]) torch.Size([1, 40, 2])\n",
      "torch.Size([1, 40, 2]) torch.Size([1, 41, 2])\n",
      "torch.Size([1, 41, 2]) torch.Size([1, 42, 2])\n",
      "torch.Size([1, 42, 2]) torch.Size([1, 43, 2])\n",
      "torch.Size([1, 43, 2]) torch.Size([1, 44, 2])\n",
      "torch.Size([1, 44, 2]) torch.Size([1, 45, 2])\n",
      "torch.Size([1, 45, 2]) torch.Size([1, 46, 2])\n",
      "torch.Size([1, 46, 2]) torch.Size([1, 47, 2])\n",
      "torch.Size([1, 47, 2]) torch.Size([1, 48, 2])\n",
      "torch.Size([1, 48, 2]) torch.Size([1, 49, 2])\n",
      "torch.Size([1, 49, 2]) torch.Size([1, 50, 2])\n",
      "torch.Size([1, 50, 2]) torch.Size([1, 51, 2])\n",
      "torch.Size([1, 51, 2]) torch.Size([1, 52, 2])\n",
      "torch.Size([1, 52, 2]) torch.Size([1, 53, 2])\n",
      "torch.Size([1, 53, 2]) torch.Size([1, 54, 2])\n",
      "torch.Size([1, 54, 2]) torch.Size([1, 55, 2])\n",
      "torch.Size([1, 55, 2]) torch.Size([1, 56, 2])\n",
      "torch.Size([1, 56, 2]) torch.Size([1, 57, 2])\n",
      "torch.Size([1, 57, 2]) torch.Size([1, 58, 2])\n",
      "torch.Size([1, 58, 2]) torch.Size([1, 59, 2])\n",
      "torch.Size([1, 59, 2]) torch.Size([1, 60, 2])\n",
      "torch.Size([1, 60, 2]) torch.Size([1, 61, 2])\n",
      "torch.Size([1, 61, 2]) torch.Size([1, 62, 2])\n",
      "torch.Size([1, 62, 2]) torch.Size([1, 63, 2])\n",
      "torch.Size([1, 63, 2]) torch.Size([1, 64, 2])\n",
      "torch.Size([1, 64, 2]) torch.Size([1, 65, 2])\n",
      "torch.Size([1, 65, 2]) torch.Size([1, 66, 2])\n",
      "torch.Size([1, 66, 2]) torch.Size([1, 67, 2])\n",
      "torch.Size([1, 67, 2]) torch.Size([1, 68, 2])\n",
      "torch.Size([1, 68, 2]) torch.Size([1, 69, 2])\n",
      "torch.Size([1, 69, 2]) torch.Size([1, 70, 2])\n",
      "torch.Size([1, 70, 2]) torch.Size([1, 71, 2])\n",
      "torch.Size([1, 71, 2]) torch.Size([1, 72, 2])\n",
      "torch.Size([1, 72, 2]) torch.Size([1, 73, 2])\n",
      "torch.Size([1, 73, 2]) torch.Size([1, 74, 2])\n",
      "torch.Size([1, 74, 2]) torch.Size([1, 75, 2])\n",
      "torch.Size([1, 75, 2]) torch.Size([1, 76, 2])\n",
      "torch.Size([1, 76, 2]) torch.Size([1, 77, 2])\n",
      "torch.Size([1, 77, 2]) torch.Size([1, 78, 2])\n",
      "torch.Size([1, 78, 2]) torch.Size([1, 79, 2])\n",
      "torch.Size([1, 79, 2]) torch.Size([1, 80, 2])\n",
      "torch.Size([1, 80, 2]) torch.Size([1, 81, 2])\n",
      "torch.Size([1, 81, 2]) torch.Size([1, 82, 2])\n",
      "torch.Size([1, 82, 2]) torch.Size([1, 83, 2])\n",
      "torch.Size([1, 83, 2]) torch.Size([1, 84, 2])\n",
      "torch.Size([1, 84, 2]) torch.Size([1, 85, 2])\n",
      "torch.Size([1, 85, 2]) torch.Size([1, 86, 2])\n",
      "torch.Size([1, 86, 2]) torch.Size([1, 87, 2])\n",
      "torch.Size([1, 87, 2]) torch.Size([1, 88, 2])\n",
      "torch.Size([1, 88, 2]) torch.Size([1, 89, 2])\n",
      "torch.Size([1, 89, 2]) torch.Size([1, 90, 2])\n",
      "torch.Size([1, 90, 2]) torch.Size([1, 91, 2])\n",
      "torch.Size([1, 91, 2]) torch.Size([1, 92, 2])\n",
      "torch.Size([1, 92, 2]) torch.Size([1, 93, 2])\n",
      "torch.Size([1, 93, 2]) torch.Size([1, 94, 2])\n",
      "torch.Size([1, 94, 2]) torch.Size([1, 95, 2])\n",
      "torch.Size([1, 95, 2]) torch.Size([1, 96, 2])\n",
      "torch.Size([1, 96, 2]) torch.Size([1, 97, 2])\n",
      "torch.Size([1, 97, 2]) torch.Size([1, 98, 2])\n",
      "torch.Size([1, 98, 2]) torch.Size([1, 99, 2])\n",
      "torch.Size([1, 99, 2]) torch.Size([1, 100, 2])\n"
     ]
    },
    {
     "data": {
      "image/png": "[encoded data removed]",
      "text/plain": [
       "<Figure size 432x288 with 1 Axes>"
      ]
     },
     "metadata": {
      "needs_background": "light"
     },
     "output_type": "display_data"
    }
   ],
   "source": [
    "test_words = \"ACDC\"\n",
    "test_batch = {\"c\": torch.tensor([alpha_to_num[c] for c in test_words]).unsqueeze(0).to(DEVICE), \"c_len\": torch.tensor([len(test_words)]).to(DEVICE)}\n",
    "\n",
    "\n",
    "# torch.save(model.state_dict(), model_state_dict_path)\n",
    "out = predict_no_guidance(model, test_batch)\n",
    "# img_path = os.path.join(MODELS_DIR, \"test_img_epoch-{}.jpg\".format(epoch))\n",
    "draw(out, None)"
   ]
  },
  {
   "cell_type": "code",
   "execution_count": 12,
   "id": "552e5bd4",
   "metadata": {},
   "outputs": [
    {
     "name": "stdout",
     "output_type": "stream",
     "text": [
      "saved_models/Convolution-HWFT\n"
     ]
    },
    {
     "data": {
      "text/plain": [
       "<All keys matched successfully>"
      ]
     },
     "execution_count": 12,
     "metadata": {},
     "output_type": "execute_result"
    }
   ],
   "source": [
    "model_dir = MODELS_DIR\n",
    "print(model_dir)\n",
    "model = torch.load(os.path.join(model_dir, \"model.pth\"))\n",
    "model.load_state_dict(torch.load(os.path.join(model_dir, \"model_state_dict.pth\")))"
   ]
  },
  {
   "cell_type": "code",
   "execution_count": 13,
   "id": "82852508",
   "metadata": {},
   "outputs": [
    {
     "ename": "KeyError",
     "evalue": "'x'",
     "output_type": "error",
     "traceback": [
      "\u001b[0;31m---------------------------------------------------------------------------\u001b[0m",
      "\u001b[0;31mKeyError\u001b[0m                                  Traceback (most recent call last)",
      "\u001b[0;32m/tmp/ipykernel_2226/2810621104.py\u001b[0m in \u001b[0;36m<module>\u001b[0;34m\u001b[0m\n\u001b[0;32m----> 1\u001b[0;31m \u001b[0mpredict_no_guidance\u001b[0m\u001b[0;34m(\u001b[0m\u001b[0mmodel\u001b[0m\u001b[0;34m(\u001b[0m\u001b[0;34m{\u001b[0m\u001b[0;34m\"c\"\u001b[0m\u001b[0;34m:\u001b[0m \u001b[0mbatch\u001b[0m\u001b[0;34m[\u001b[0m\u001b[0;34m'c'\u001b[0m\u001b[0;34m]\u001b[0m\u001b[0;34m[\u001b[0m\u001b[0;36m0\u001b[0m\u001b[0;34m]\u001b[0m\u001b[0;34m,\u001b[0m \u001b[0;34m\"c_len\"\u001b[0m\u001b[0;34m:\u001b[0m \u001b[0mbatch\u001b[0m\u001b[0;34m[\u001b[0m\u001b[0;34m'c_len'\u001b[0m\u001b[0;34m]\u001b[0m\u001b[0;34m[\u001b[0m\u001b[0;36m0\u001b[0m\u001b[0;34m]\u001b[0m\u001b[0;34m}\u001b[0m\u001b[0;34m)\u001b[0m\u001b[0;34m)\u001b[0m\u001b[0;34m\u001b[0m\u001b[0;34m\u001b[0m\u001b[0m\n\u001b[0m",
      "\u001b[0;32m~/final_proj/final/lib/python3.7/site-packages/torch/nn/modules/module.py\u001b[0m in \u001b[0;36m_call_impl\u001b[0;34m(self, *input, **kwargs)\u001b[0m\n\u001b[1;32m   1049\u001b[0m         if not (self._backward_hooks or self._forward_hooks or self._forward_pre_hooks or _global_backward_hooks\n\u001b[1;32m   1050\u001b[0m                 or _global_forward_hooks or _global_forward_pre_hooks):\n\u001b[0;32m-> 1051\u001b[0;31m             \u001b[0;32mreturn\u001b[0m \u001b[0mforward_call\u001b[0m\u001b[0;34m(\u001b[0m\u001b[0;34m*\u001b[0m\u001b[0minput\u001b[0m\u001b[0;34m,\u001b[0m \u001b[0;34m**\u001b[0m\u001b[0mkwargs\u001b[0m\u001b[0;34m)\u001b[0m\u001b[0;34m\u001b[0m\u001b[0;34m\u001b[0m\u001b[0m\n\u001b[0m\u001b[1;32m   1052\u001b[0m         \u001b[0;31m# Do not call functions when jit is used\u001b[0m\u001b[0;34m\u001b[0m\u001b[0;34m\u001b[0m\u001b[0;34m\u001b[0m\u001b[0m\n\u001b[1;32m   1053\u001b[0m         \u001b[0mfull_backward_hooks\u001b[0m\u001b[0;34m,\u001b[0m \u001b[0mnon_full_backward_hooks\u001b[0m \u001b[0;34m=\u001b[0m \u001b[0;34m[\u001b[0m\u001b[0;34m]\u001b[0m\u001b[0;34m,\u001b[0m \u001b[0;34m[\u001b[0m\u001b[0;34m]\u001b[0m\u001b[0;34m\u001b[0m\u001b[0;34m\u001b[0m\u001b[0m\n",
      "\u001b[0;32m~/final_proj/models/model.py\u001b[0m in \u001b[0;36mforward\u001b[0;34m(self, batch)\u001b[0m\n\u001b[1;32m    155\u001b[0m \u001b[0;34m\u001b[0m\u001b[0m\n\u001b[1;32m    156\u001b[0m     \u001b[0;32mdef\u001b[0m \u001b[0mforward\u001b[0m\u001b[0;34m(\u001b[0m\u001b[0mself\u001b[0m\u001b[0;34m,\u001b[0m \u001b[0mbatch\u001b[0m\u001b[0;34m)\u001b[0m\u001b[0;34m:\u001b[0m\u001b[0;34m\u001b[0m\u001b[0;34m\u001b[0m\u001b[0m\n\u001b[0;32m--> 157\u001b[0;31m         \u001b[0mx\u001b[0m\u001b[0;34m,\u001b[0m \u001b[0mc\u001b[0m\u001b[0;34m,\u001b[0m \u001b[0mx_len\u001b[0m\u001b[0;34m,\u001b[0m \u001b[0mc_len\u001b[0m \u001b[0;34m=\u001b[0m \u001b[0mbatch\u001b[0m\u001b[0;34m[\u001b[0m\u001b[0;34m'x'\u001b[0m\u001b[0;34m]\u001b[0m\u001b[0;34m,\u001b[0m \u001b[0mbatch\u001b[0m\u001b[0;34m[\u001b[0m\u001b[0;34m'c'\u001b[0m\u001b[0;34m]\u001b[0m\u001b[0;34m,\u001b[0m \u001b[0mbatch\u001b[0m\u001b[0;34m[\u001b[0m\u001b[0;34m'x_len'\u001b[0m\u001b[0;34m]\u001b[0m\u001b[0;34m,\u001b[0m \u001b[0mbatch\u001b[0m\u001b[0;34m[\u001b[0m\u001b[0;34m'c_len'\u001b[0m\u001b[0;34m]\u001b[0m\u001b[0;34m\u001b[0m\u001b[0;34m\u001b[0m\u001b[0m\n\u001b[0m\u001b[1;32m    158\u001b[0m         \u001b[0mB\u001b[0m\u001b[0;34m,\u001b[0m \u001b[0mL\u001b[0m\u001b[0;34m,\u001b[0m \u001b[0m_\u001b[0m \u001b[0;34m=\u001b[0m \u001b[0mx\u001b[0m\u001b[0;34m.\u001b[0m\u001b[0mshape\u001b[0m\u001b[0;34m\u001b[0m\u001b[0;34m\u001b[0m\u001b[0m\n\u001b[1;32m    159\u001b[0m \u001b[0;34m\u001b[0m\u001b[0m\n",
      "\u001b[0;31mKeyError\u001b[0m: 'x'"
     ]
    }
   ],
   "source": [
    "predict_no_guidance(model({\"c\": batch['c'][0], \"c_len\": batch['c_len'][0]}))"
   ]
  },
  {
   "cell_type": "code",
   "execution_count": null,
   "id": "7e9210e1",
   "metadata": {},
   "outputs": [],
   "source": []
  }
 ],
 "metadata": {
  "interpreter": {
   "hash": "fd7b23346ad8306597acece800001b43fcfa96a33152da96726a416f47d478a7"
  },
  "kernelspec": {
   "display_name": "final",
   "language": "python",
   "name": "python3"
  },
  "language_info": {
   "codemirror_mode": {
    "name": "ipython",
    "version": 3
   },
   "file_extension": ".py",
   "mimetype": "text/x-python",
   "name": "python",
   "nbconvert_exporter": "python",
   "pygments_lexer": "ipython3",
   "version": "3.7.12"
  }
 },
 "nbformat": 4,
 "nbformat_minor": 5
}
