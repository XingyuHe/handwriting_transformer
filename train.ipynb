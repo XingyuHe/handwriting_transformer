{
 "cells": [
  {
   "cell_type": "code",
   "execution_count": null,
   "id": "f74adca4",
   "metadata": {},
   "outputs": [],
   "source": [
    "import datetime\n",
    "import os\n",
    "from collections import defaultdict\n",
    "\n",
    "import torch\n",
    "from torch import nn\n",
    "from torch.nn import functional as F\n",
    "\n",
    "from utils import *\n",
    "from data.data import DataReader\n",
    "\n",
    "import math\n",
    "import numpy as np\n",
    "\n",
    "\n",
    "###############################################\n",
    "EXP_NAME = \"Single-Batch-Overfit\"\n",
    "# TODO: When you change the model parameters, change the EXP_NAME!\n",
    "\n",
    "# training parameters\n",
    "BATCH_SIZE = 32\n",
    "LR = 0.0005\n",
    "EPOCHS = 1000\n",
    "RESUME = False\n",
    "\n",
    "# transformer parameters\n",
    "TF_D_MODEL = 8\n",
    "TF_DROPOUT = 0\n",
    "TF_N_HEADS = 4\n",
    "TF_DIM_FEEDFORWARD = 64\n",
    "TF_ENC_LAYERS = 1\n",
    "TF_DEC_LAYERS = 5\n",
    "\n",
    "ADD_NOISE = False\n",
    "\n",
    "# data and model path\n",
    "DEVICE = torch.device(\"cuda\" if torch.cuda.is_available() else \"cpu\")\n",
    "SAVE_MODEL = 1\n",
    "SAVE_MODEL_HISTORY = 10\n",
    "\n",
    "PROCESED_DATA_DIR = \"data/processed\"\n",
    "MODELS_DIR = os.path.join('saved_models', EXP_NAME)\n",
    "\n",
    "model_architecture_path = os.path.join(MODELS_DIR, 'model.pth')\n",
    "model_state_dict_path = os.path.join(MODELS_DIR, 'model_state_dict.pth')\n",
    "def model_state_dict_epoch_path(epoch):\n",
    "    return os.path.join(MODELS_DIR, 'model_state_dict_{}.pth'.format(epoch))\n",
    "\n",
    "# strokes and characters\n",
    "ALPHABET = [\n",
    "    '\\x00', ' ', '!', '\"', '#', \"'\", '(', ')', ',', '-', '.',\n",
    "    '0', '1', '2', '3', '4', '5', '6', '7', '8', '9', ':', ';',\n",
    "    '?', 'A', 'B', 'C', 'D', 'E', 'F', 'G', 'H', 'I', 'J', 'K',\n",
    "    'L', 'M', 'N', 'O', 'P', 'R', 'S', 'T', 'U', 'V', 'W', 'Y',\n",
    "    'a', 'b', 'c', 'd', 'e', 'f', 'g', 'h', 'i', 'j', 'k', 'l',\n",
    "    'm', 'n', 'o', 'p', 'q', 'r', 's', 't', 'u', 'v', 'w', 'x',\n",
    "    'y', 'z'\n",
    "]\n",
    "ALPHABET_SIZE = len(ALPHABET)\n",
    "alphabet_ord = list(map(ord, ALPHABET))\n",
    "alpha_to_num = defaultdict(int, list(map(reversed, enumerate(ALPHABET))))\n",
    "num_to_alpha = dict(enumerate(alphabet_ord))\n",
    "\n",
    "D_STROKE = 3\n",
    "\n",
    "MAX_STROKE_LEN = 1200\n",
    "MAX_CHAR_LEN = 75"
   ]
  },
  {
   "cell_type": "code",
   "execution_count": 44,
   "id": "dea8557d",
   "metadata": {},
   "outputs": [],
   "source": [
    "class PositionalEncoding(nn.Module):\n",
    "    \"Implement the PE function.\"\n",
    "    def __init__(self):\n",
    "        super(PositionalEncoding, self).__init__()\n",
    "        max_len = max(MAX_CHAR_LEN, MAX_STROKE_LEN)\n",
    "        self.dropout = nn.Dropout(p=TF_DROPOUT)\n",
    "\n",
    "        # Compute the positional encodings once in log space.\n",
    "        pe = torch.zeros(max_len, TF_D_MODEL, requires_grad=False)\n",
    "        position = torch.arange(0, max_len).unsqueeze(1)\n",
    "        div_term = torch.exp(torch.arange(0, TF_D_MODEL, 2) *\n",
    "                             -(math.log(10000.0) / TF_D_MODEL))\n",
    "        pe[:, 0::2] = torch.sin(position * div_term)\n",
    "        pe[:, 1::2] = torch.cos(position * div_term)\n",
    "        pe = pe.unsqueeze(0)\n",
    "        self.register_buffer('pe', pe)\n",
    "\n",
    "    def forward(self, x):\n",
    "        with torch.no_grad():\n",
    "            x = x + self.pe[:, :x.size(1)]\n",
    "            return self.dropout(x)\n",
    "\n",
    "class TFHW(nn.Module):\n",
    "\n",
    "    def __init__(self) -> None:\n",
    "        super(TFHW, self).__init__()\n",
    "\n",
    "        self.src_embed = nn.Sequential(\n",
    "            nn.Embedding(ALPHABET_SIZE, TF_D_MODEL),\n",
    "            PositionalEncoding()\n",
    "        )\n",
    "\n",
    "        tf_encoder_layer = nn.TransformerEncoderLayer(\n",
    "            d_model=TF_D_MODEL,\n",
    "            nhead=TF_N_HEADS,\n",
    "            dim_feedforward=TF_DIM_FEEDFORWARD,\n",
    "            batch_first=True,\n",
    "            dropout=TF_DROPOUT\n",
    "        )\n",
    "\n",
    "        self.encoder = nn.TransformerEncoder(\n",
    "            encoder_layer=tf_encoder_layer,\n",
    "            num_layers=TF_ENC_LAYERS,\n",
    "            norm=nn.LayerNorm(TF_D_MODEL)\n",
    "        )\n",
    "\n",
    "        self.tgt_embed = nn.Sequential(\n",
    "            nn.Linear(D_STROKE, TF_D_MODEL),\n",
    "            PositionalEncoding()\n",
    "        )\n",
    "\n",
    "        tf_decoder_layer = nn.TransformerDecoderLayer(\n",
    "            d_model=TF_D_MODEL,\n",
    "            nhead=TF_N_HEADS,\n",
    "            dim_feedforward=TF_DIM_FEEDFORWARD,\n",
    "            dropout=TF_DROPOUT,\n",
    "            batch_first=True,\n",
    "        )\n",
    "\n",
    "        self.decoder = nn.TransformerDecoder(\n",
    "            decoder_layer=tf_decoder_layer,\n",
    "            num_layers=TF_DEC_LAYERS,\n",
    "            norm=nn.LayerNorm(TF_D_MODEL)\n",
    "        )\n",
    "\n",
    "        self.noise = torch.distributions.Normal(torch.tensor([0.0]), torch.tensor([1.0]))\n",
    "\n",
    "        self.generator = nn.Linear(TF_D_MODEL, D_STROKE)\n",
    "\n",
    "        #  TODO: init parameters randomly\n",
    "\n",
    "    def forward(self, batch):\n",
    "\n",
    "        batch_seq_char = batch['c']\n",
    "        batch_seq_char_len = batch['c_len']\n",
    "        batch_seq_stroke = batch['x']\n",
    "        batch_seq_stroke_len = batch['x_len']\n",
    "\n",
    "        encode_embed = self.src_embed(batch_seq_char)\n",
    "        encoding = encode_embed\n",
    "\n",
    "        # src_key_padding_mask = create_pad_mask(encode_embed, batch_seq_char_len).to(DEVICE)\n",
    "        # encoding = self.encoder(src=encode_embed, src_key_padding_mask=src_key_padding_mask)\n",
    "\n",
    "        decode_embed = self.tgt_embed(batch_seq_stroke)\n",
    "        tgt_key_padding_mask = create_pad_mask(decode_embed, batch_seq_stroke_len).to(DEVICE)\n",
    "        tgt_mask = self.create_mask(decode_embed.shape[1])\n",
    "\n",
    "        decoding = self.decoder(\n",
    "            tgt=decode_embed,\n",
    "            tgt_mask=tgt_mask,\n",
    "            memory=encoding,\n",
    "            tgt_key_padding_mask=tgt_key_padding_mask\n",
    "        )\n",
    "\n",
    "        if ADD_NOISE:\n",
    "            decoding = decoding + self.noise.sample(decoding.size()).squeeze().to(DEVICE)\n",
    "\n",
    "        decode_strokes = self.generator(decoding)\n",
    "        decode_strokes[:, :, -1] = torch.sigmoid(decode_strokes[:, :, -1])\n",
    "\n",
    "        return decode_strokes\n",
    "\n",
    "\n",
    "    def loss_fn(self, decode_strokes, batch):\n",
    "        tgt_strokes = batch['y']\n",
    "        \n",
    "        mask = create_pad_mask(decode_strokes, batch['x_len']).to(DEVICE)\n",
    "        \n",
    "        coord_loss = F.mse_loss(tgt_strokes[..., :2], decode_strokes[..., :2], reduction=\"none\")\n",
    "        coord_mask = mask.unsqueeze(-1).expand(coord_loss.shape)\n",
    "        coord_loss = coord_loss.masked_fill_(coord_mask, 0)\n",
    "        coord_loss = torch.sum(coord_loss) / torch.sum(coord_mask == False)\n",
    "        \n",
    "        eos_loss = F.binary_cross_entropy(decode_strokes[..., -1],tgt_strokes[..., -1],  reduction='none')\n",
    "        eos_loss = eos_loss.masked_fill_(mask, 0)\n",
    "        eos_loss = torch.sum(eos_loss)/ torch.sum(mask == False)\n",
    "\n",
    "        return coord_loss, eos_loss\n",
    "    \n",
    "    def predict(self, batch_seq_char, batch_seq_char_len, max_output_len=500):\n",
    "\n",
    "        encode_embed = self.src_embed(batch_seq_char).to(DEVICE)\n",
    "        src_key_padding_mask = create_pad_mask(encode_embed, batch_seq_char_len).to(DEVICE)\n",
    "        encoding = self.encoder(src=encode_embed, src_key_padding_mask=src_key_padding_mask).to(DEVICE)\n",
    "\n",
    "        output = torch.zeros(size=[1, max_output_len, 3]).to(DEVICE)\n",
    "        output[0, 0, -1] = 1 # the starting point\n",
    "\n",
    "\n",
    "        for t in range(1, max_output_len):\n",
    "            tgt_emb = self.tgt_embed(output[:, :t]).to(DEVICE)\n",
    "            tgt_mask = self.create_mask(tgt_emb.shape[1]).to(DEVICE)\n",
    "            decoder_output = self.decoder(tgt=tgt_emb,\n",
    "                                        memory=encoding,\n",
    "                                        tgt_mask=tgt_mask).to(DEVICE)\n",
    "            decoder_output =  self.generator(decoder_output[:, [-1], :])\n",
    "            decoder_output[:, :, -1] = torch.sigmoid(decoder_output[:, :, -1])\n",
    "            output[:, t, :] = decoder_output\n",
    "\n",
    "        return output\n",
    "\n",
    "\n",
    "    def create_mask(self, L) -> torch.tensor:\n",
    "        return torch.triu(torch.full((L, L), float('-inf')), diagonal=1).to(DEVICE)\n"
   ]
  },
  {
   "cell_type": "code",
   "execution_count": 45,
   "id": "9d35a9d8",
   "metadata": {},
   "outputs": [],
   "source": [
    "def train_loop(model, optimizer, batch):\n",
    "    optimizer.zero_grad()\n",
    "    output = model(batch)\n",
    "    mse_loss, eos_loss = model.loss_fn(output, batch)\n",
    "    loss = mse_loss  + eos_loss\n",
    "    loss.backward()\n",
    "    optimizer.step()\n",
    "    return loss"
   ]
  },
  {
   "cell_type": "code",
   "execution_count": null,
   "id": "c21250b4",
   "metadata": {},
   "outputs": [],
   "source": [
    "data_reader = DataReader(\"data/processed\")\n",
    "model = TFHW().to(DEVICE)\n",
    "model.train()\n",
    "optimizer = torch.optim.Adam(\n",
    "    model.parameters(),\n",
    "    lr=LR, betas=(0.0, 0.999), weight_decay=0, eps=1e-8\n",
    ")\n",
    "\n",
    "train_losses = []\n",
    "val_losses = []\n",
    "\n",
    "for epoch in range(EPOCHS):\n",
    "    train_data = data_reader.train_batch_generator(BATCH_SIZE)\n",
    "    val_data = data_reader.test_batch_generator(BATCH_SIZE)\n",
    "    wandb_log = {}\n",
    "    wandb_log[\"train_loss\"] = 0\n",
    "\n",
    "#     for batch in train_data:\n",
    "    B, L, _ = batch['x'].shape\n",
    "    loss = train_loop(model, optimizer, batch)\n",
    "    wandb_log[\"train_loss\"] += batch['x'].shape[0] * loss.item()\n",
    "    print(wandb_log[\"train_loss\"])\n",
    "    train_losses.append(wandb_log['train_loss'])\n",
    "        \n",
    "#     with torch.no_grad():\n",
    "#         wandb_log[\"val_loss\"] = 0\n",
    "        \n",
    "#         for batch in val_data:\n",
    "#             B, L, _ = batch['x'].shape\n",
    "#             x = batch['x'][..., :L - 1, :2]\n",
    "#             y = batch['x'][..., 1:, :2]\n",
    "#             batch['x'] = x\n",
    "#             batch['y'] = y\n",
    "#             mse_loss = model.loss_fn(model(batch), batch)\n",
    "#             loss = mse_loss \n",
    "#             wandb_log[\"val_loss\"] += loss.item()\n",
    "#     train_losses.append(wandb_log['val_loss'])\n",
    "#     print(wandb_log)"
   ]
  },
  {
   "cell_type": "code",
   "execution_count": 26,
   "id": "78b7afe6",
   "metadata": {},
   "outputs": [],
   "source": [
    "with torch.no_grad():\n",
    "    decode_strokes = model(batch)\n",
    "    tgt_strokes = batch['y']\n",
    "\n",
    "    mask = create_pad_mask(decode_strokes, batch['x_len']).to(DEVICE)\n",
    "\n",
    "    coord_loss = F.mse_loss(tgt_strokes[..., :2], decode_strokes[..., :2], reduction=\"none\")\n",
    "    coord_mask = mask.unsqueeze(-1).expand(coord_loss.shape)\n",
    "    coord_loss = coord_loss.masked_fill_(coord_mask, 0)\n",
    "    coord_loss = torch.sum(coord_loss) / torch.sum(coord_mask == False)\n",
    "\n",
    "    eos_loss = F.binary_cross_entropy(decode_strokes[..., -1],tgt_strokes[..., -1],  reduction='none')\n",
    "    eos_loss = eos_loss.masked_fill_(mask, 0)\n",
    "    eos_loss = torch.sum(eos_loss)/ torch.sum(mask == False)"
   ]
  },
  {
   "cell_type": "code",
   "execution_count": 33,
   "id": "c726c39b",
   "metadata": {},
   "outputs": [
    {
     "name": "stdout",
     "output_type": "stream",
     "text": [
      "tensor(148.0931, device='cuda:0')\n",
      "tensor(148.0931, device='cuda:0')\n"
     ]
    }
   ],
   "source": [
    "x_len = batch['x_len'].item()\n",
    "sqdiff = torch.square(tgt_strokes[:, :x_len, :2] - decode_strokes[:, :x_len, :2])\n",
    "sqd = torch.sum(sqdiff)\n",
    "print(coord_loss * torch.sum(coord_mask == False)) \n",
    "print(sqd)"
   ]
  },
  {
   "cell_type": "code",
   "execution_count": 38,
   "id": "3249b182",
   "metadata": {},
   "outputs": [
    {
     "data": {
      "text/plain": [
       "tensor([[[ 0.1970, -0.2660],\n",
       "         [ 0.1404, -0.1231],\n",
       "         [ 0.1256, -0.0468],\n",
       "         ...,\n",
       "         [ 0.2142,  1.1230],\n",
       "         [-0.1428,  1.1131],\n",
       "         [-0.3103,  0.8447]]], device='cuda:0')"
      ]
     },
     "execution_count": 38,
     "metadata": {},
     "output_type": "execute_result"
    }
   ],
   "source": [
    "tgt_strokes[:, :x_len, :2]"
   ]
  },
  {
   "cell_type": "code",
   "execution_count": 37,
   "id": "0b6704a9",
   "metadata": {},
   "outputs": [
    {
     "data": {
      "text/plain": [
       "tensor([[[ 0.0300, -0.2544],\n",
       "         [ 0.0399, -0.2154],\n",
       "         [ 0.0524, -0.2303],\n",
       "         ...,\n",
       "         [ 0.1370,  0.8144],\n",
       "         [-0.3397,  0.7336],\n",
       "         [-0.7605,  0.5473]]], device='cuda:0')"
      ]
     },
     "execution_count": 37,
     "metadata": {},
     "output_type": "execute_result"
    }
   ],
   "source": [
    "decode_strokes[:, :x_len, :2]"
   ]
  },
  {
   "cell_type": "code",
   "execution_count": 34,
   "id": "c36b72b7",
   "metadata": {},
   "outputs": [
    {
     "data": {
      "text/plain": [
       "tensor([[[2.7894e-02, 1.3427e-04],\n",
       "         [1.0099e-02, 8.5216e-03],\n",
       "         [5.3617e-03, 3.3678e-02],\n",
       "         ...,\n",
       "         [5.9718e-03, 9.5194e-02],\n",
       "         [3.8769e-02, 1.4401e-01],\n",
       "         [2.0271e-01, 8.8415e-02]]], device='cuda:0')"
      ]
     },
     "execution_count": 34,
     "metadata": {},
     "output_type": "execute_result"
    }
   ],
   "source": [
    "sqdiff"
   ]
  },
  {
   "cell_type": "code",
   "execution_count": null,
   "id": "7eedd7b9",
   "metadata": {},
   "outputs": [],
   "source": [
    "data_cols = ['x', 'x_len', 'c', 'c_len', 'w_id']\n",
    "data_dir = \"data/processed\"\n",
    "data = []\n",
    "\n",
    "for col in data_cols:\n",
    "    data.append(\n",
    "        torch.from_numpy(\n",
    "            np.load(os.path.join(data_dir, '{}.npy'.format(col)))\n",
    "        ).to(DEVICE)\n",
    "    )\n",
    "data[2] = data[2].type(torch.int) # int8 is not compatible with Pytorch\n",
    "data[1] -= 1\n",
    "data.insert(1, data[0][:, 1:, :])\n",
    "data_cols.insert(1, 'y')\n",
    "data[0] = data[0][:, :-1, :]\n",
    "\n",
    "\n",
    "batch = dict(zip(data_cols, [d[[0], ...] for d in data]))\n",
    "print(batch[\"c_len\"].shape)\n",
    "print(batch[\"c_len\"])\n",
    "\n",
    "# data_reader = DataReader(\"data/processed\")"
   ]
  },
  {
   "cell_type": "code",
   "execution_count": null,
   "id": "555a8c25",
   "metadata": {},
   "outputs": [],
   "source": [
    "output = model(batch)\n",
    "mask = create_pad_mask(output, batch['x_len'])\n",
    "mask = mask.unsqueeze(-1)\n",
    "mask = mask.expand(output.shape)\n",
    "print(output.shape)\n",
    "print(mask.shape)\n",
    "print(mask)"
   ]
  },
  {
   "cell_type": "code",
   "execution_count": null,
   "id": "19abdc6c",
   "metadata": {},
   "outputs": [],
   "source": [
    "print(output)\n",
    "output = output.masked_fill_(mask.to(DEVICE), 0)\n",
    "print(output)"
   ]
  },
  {
   "cell_type": "code",
   "execution_count": null,
   "id": "15be2112",
   "metadata": {},
   "outputs": [],
   "source": [
    "batch['y'][:, :max(batch['x_len']), :]"
   ]
  },
  {
   "cell_type": "code",
   "execution_count": null,
   "id": "e59f4b32",
   "metadata": {},
   "outputs": [],
   "source": [
    "ALPHABET = [\n",
    "    '\\x00', ' ', '!', '\"', '#', \"'\", '(', ')', ',', '-', '.',\n",
    "    '0', '1', '2', '3', '4', '5', '6', '7', '8', '9', ':', ';',\n",
    "    '?', 'A', 'B', 'C', 'D', 'E', 'F', 'G', 'H', 'I', 'J', 'K',\n",
    "    'L', 'M', 'N', 'O', 'P', 'R', 'S', 'T', 'U', 'V', 'W', 'Y',\n",
    "    'a', 'b', 'c', 'd', 'e', 'f', 'g', 'h', 'i', 'j', 'k', 'l',\n",
    "    'm', 'n', 'o', 'p', 'q', 'r', 's', 't', 'u', 'v', 'w', 'x',\n",
    "    'y', 'z'\n",
    "]\n",
    "ALPHABET_SIZE = len(ALPHABET)\n",
    "alphabet_ord = list(map(ord, ALPHABET))\n",
    "alpha_to_num = defaultdict(int, list(map(reversed, enumerate(ALPHABET))))\n",
    "num_to_alpha = dict(enumerate(alphabet_ord))\n",
    "\n",
    "wrods = \"hi my name is Peter he\"\n",
    "batch = {\"c\": torch.tensor([alpha_to_num[c] for c in wrods]).unsqueeze(0).to(DEVICE), \"c_len\": [len(wrods)]}\n",
    "\n",
    "model_dir = \"/home/bobby/final_proj/saved_models/Simple-HWTF\"\n",
    "model = torch.load(os.path.join(model_dir, \"model.pth\"))\n",
    "model.load_state_dict(torch.load(os.path.join(model_dir, \"model_state_dict.pth\")))\n",
    "model.to(DEVICE)\n",
    "model.eval()\n",
    "output = predict_no_guidance(model, batch)"
   ]
  },
  {
   "cell_type": "code",
   "execution_count": null,
   "id": "6f376e35",
   "metadata": {},
   "outputs": [],
   "source": [
    "def predict(model, batch):\n",
    "    \"\"\"_summary_\n",
    "\n",
    "    Args:\n",
    "        batch_seq_char (N, L): sequence of character using the ALPHABET indexing\n",
    "        batch_seq_char_len (N): lenght of each sequence in the batch\n",
    "    \"\"\"\n",
    "\n",
    "    tgt = torch.zeros(size=[1, 1, 3]).to(DEVICE)\n",
    "    L = batch['c_len'].item()\n",
    "    sequence_length = L * 25\n",
    "\n",
    "    with torch.no_grad():\n",
    "        while tgt.shape[1] < sequence_length:\n",
    "            tgt[0, 0, -1] = 1\n",
    "            batch['x'] = tgt\n",
    "            batch['x_len'] = np.asarray([tgt.shape[1]])\n",
    "            tgt = model(batch)\n",
    "            tgt = torch.cat([torch.zeros(size=[1, 1, 3]).to(DEVICE), tgt], 1)\n",
    "\n",
    "    return tgt"
   ]
  },
  {
   "cell_type": "code",
   "execution_count": 47,
   "id": "a5f56b4b",
   "metadata": {},
   "outputs": [
    {
     "name": "stdout",
     "output_type": "stream",
     "text": [
      "torch.Size([1, 900, 3])\n"
     ]
    }
   ],
   "source": [
    "output = predict(model, {'c': batch['c'], 'c_len': batch['c_len']})\n",
    "print(output.shape)"
   ]
  },
  {
   "cell_type": "code",
   "execution_count": 48,
   "id": "87c2dc7e",
   "metadata": {
    "scrolled": true
   },
   "outputs": [
    {
     "data": {
      "image/png": "[encoded data removed]",
      "text/plain": [
       "<Figure size 432x288 with 1 Axes>"
      ]
     },
     "metadata": {
      "needs_background": "light"
     },
     "output_type": "display_data"
    }
   ],
   "source": [
    "draw(output[:, :x_len, :], None)"
   ]
  },
  {
   "cell_type": "code",
   "execution_count": null,
   "id": "ec6c5ef0",
   "metadata": {
    "scrolled": true
   },
   "outputs": [],
   "source": [
    "draw(batch['x'], None)"
   ]
  },
  {
   "cell_type": "code",
   "execution_count": 49,
   "id": "725f0947",
   "metadata": {},
   "outputs": [
    {
     "data": {
      "image/png": "[encoded data removed]",
      "text/plain": [
       "<Figure size 432x288 with 1 Axes>"
      ]
     },
     "metadata": {
      "needs_background": "light"
     },
     "output_type": "display_data"
    }
   ],
   "source": [
    "draw(model(batch)[:, :x_len, :], None)"
   ]
  },
  {
   "cell_type": "code",
   "execution_count": null,
   "id": "51f25d3d",
   "metadata": {},
   "outputs": [],
   "source": [
    "import matplotlib.pyplot as plt\n",
    "\n",
    "def sequence_to_jpg(output, filename):\n",
    "    output = output.cpu().detach()\n",
    "\n",
    "    x = output.squeeze()\n",
    "    abs_x = torch.cumsum(x, dim=0)\n",
    "\n",
    "    coord_x = abs_x[:600, 0]\n",
    "    coord_y = abs_x[:600, 1]\n",
    "    plt.scatter(coord_x.cpu(), coord_y.cpu(), 3)\n",
    "    plt.savefig(filename)\n",
    "    plt.axis('equal')\n",
    "    plt.show()"
   ]
  },
  {
   "cell_type": "code",
   "execution_count": null,
   "id": "6f0e2a1a",
   "metadata": {},
   "outputs": [],
   "source": [
    "sequence_to_jpg(output, \"exp.jpg\")"
   ]
  },
  {
   "cell_type": "code",
   "execution_count": null,
   "id": "8ccfdb7b",
   "metadata": {},
   "outputs": [],
   "source": [
    "[chr(num_to_alpha[n]) for n in batch['c'].squeeze().tolist()]"
   ]
  },
  {
   "cell_type": "code",
   "execution_count": null,
   "id": "30e2a321",
   "metadata": {},
   "outputs": [],
   "source": [
    "alpha"
   ]
  },
  {
   "cell_type": "code",
   "execution_count": null,
   "id": "71d67d30",
   "metadata": {},
   "outputs": [],
   "source": []
  }
 ],
 "metadata": {
  "interpreter": {
   "hash": "fd7b23346ad8306597acece800001b43fcfa96a33152da96726a416f47d478a7"
  },
  "kernelspec": {
   "display_name": "Python 3 (ipykernel)",
   "language": "python",
   "name": "python3"
  },
  "language_info": {
   "codemirror_mode": {
    "name": "ipython",
    "version": 3
   },
   "file_extension": ".py",
   "mimetype": "text/x-python",
   "name": "python",
   "nbconvert_exporter": "python",
   "pygments_lexer": "ipython3",
   "version": "3.7.12"
  }
 },
 "nbformat": 4,
 "nbformat_minor": 5
}
