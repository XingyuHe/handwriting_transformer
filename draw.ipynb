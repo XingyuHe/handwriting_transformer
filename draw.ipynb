{
 "cells": [
  {
   "cell_type": "code",
   "execution_count": 1,
   "id": "a9832d31-a481-4ab1-8661-9eee56c02351",
   "metadata": {},
   "outputs": [],
   "source": [
    "import draw\n",
    "from params import *\n",
    "import torch\n",
    "import numpy as np"
   ]
  },
  {
   "cell_type": "code",
   "execution_count": 2,
   "id": "c10525e7-778a-45f6-b320-eaaf6832733d",
   "metadata": {},
   "outputs": [
    {
     "name": "stdout",
     "output_type": "stream",
     "text": [
      "/home/bobby/final_proj/saved_models/All-Writers-No-Noise-Large : Model loaded Successfully\n"
     ]
    }
   ],
   "source": [
    "hand = draw.Hand(\"/home/bobby/final_proj/saved_models/All-Writers-No-Noise-Large\")"
   ]
  },
  {
   "cell_type": "code",
   "execution_count": 3,
   "id": "4bacba5b-5833-4960-a7ce-1cd5c629596a",
   "metadata": {},
   "outputs": [],
   "source": [
    "enc_embed = hand.model.src_embed\n",
    "encoder = hand.model.encoder\n",
    "dec_embed = hand.model.tgt_embed\n",
    "decoder = hand.model.decoder"
   ]
  },
  {
   "cell_type": "code",
   "execution_count": 15,
   "id": "95f72372-4ff8-4300-9265-3dd9a26f1bd0",
   "metadata": {},
   "outputs": [
    {
     "name": "stdout",
     "output_type": "stream",
     "text": [
      "torch.Size([1, 5])\n",
      "torch.Size([1, 1])\n"
     ]
    }
   ],
   "source": [
    "batch = {}\n",
    "batch['c'] = torch.tensor([alpha_to_num[c] for c in \"hello\"]).unsqueeze(0).to(DEVICE)\n",
    "batch['c_len'] = torch.tensor([len(batch['c'])]).unsqueeze(0).to(DEVICE)\n",
    "\n",
    "batch_seq_char = batch['c']\n",
    "batch_seq_char_len = batch['c_len']\n",
    "\n",
    "print(batch_seq_char.shape)\n",
    "print(batch_seq_char_len.shape)\n",
    "\n",
    "self = hand.model.to(DEVICE)\n",
    "\n",
    "encode_embed = self.src_embed(batch_seq_char).to(DEVICE)\n",
    "src_key_padding_mask = self.create_pad_mask(encode_embed, batch_seq_char_len).to(DEVICE)\n",
    "encoding = encoder(src=encode_embed, src_key_padding_mask=src_key_padding_mask).to(DEVICE)\n",
    "\n",
    "output_len = 100\n",
    "output = torch.zeros(size=[1, output_len, 3]).to(DEVICE)\n",
    "output[0, 0, -1] = 1\n",
    "\n",
    "for t in range(1, output_len):\n",
    "    tgt_emb = dec_embed(output[:, :t]).to(DEVICE)\n",
    "    tgt_mask = hand.model.create_mask(tgt_emb).to(DEVICE)\n",
    "    decoder_output = decoder(tgt=tgt_emb,\n",
    "                             memory=encoding,\n",
    "                             tgt_mask=tgt_mask).to(DEVICE)\n",
    "    decoder_output =  self.generator(decoder_output[:, [-1], :])\n",
    "    # print(decoder_output.shape)\n",
    "    decoder_output[:, :, -1] = torch.sigmoid(decoder_output[:, :, -1])\n",
    "    # print(decoder_output.shape)\n",
    "    output[:, t, :] = decoder_output"
   ]
  },
  {
   "cell_type": "code",
   "execution_count": 4,
   "id": "35a7af81-51ea-4959-ac1a-00c703a09425",
   "metadata": {},
   "outputs": [],
   "source": [
    "    def predict(self, batch_seq_char, batch_seq_char_len, max_output_len=500):\n",
    "        \"\"\"_summary_\n",
    "\n",
    "        Args:\n",
    "            batch_seq_char (N, L): sequence of character using the ALPHABET indexing\n",
    "            batch_seq_char_len (N): lenght of each sequence in the batch\n",
    "        \"\"\"\n",
    "\n",
    "        encode_embed = self.src_embed(batch_seq_char).to(DEVICE)\n",
    "        src_key_padding_mask = self.create_pad_mask(encode_embed, batch_seq_char_len).to(DEVICE)\n",
    "        encoding = self.encoder(src=encode_embed, src_key_padding_mask=src_key_padding_mask).to(DEVICE)\n",
    "\n",
    "        output = torch.zeros(size=[1, max_output_len, 3]).to(DEVICE)\n",
    "        output[0, 0, -1] = 1 # the starting point\n",
    "\n",
    "\n",
    "        for t in range(1, max_output_len):\n",
    "            tgt_emb = self.tgt_embed(output[:, :t]).to(DEVICE)\n",
    "            tgt_mask = self.create_mask(tgt_emb).to(DEVICE)\n",
    "            decoder_output = self.decoder(tgt=tgt_emb,\n",
    "                                        memory=encoding,\n",
    "                                        tgt_mask=tgt_mask).to(DEVICE)\n",
    "            decoder_output =  self.generator(decoder_output[:, [-1], :])\n",
    "            decoder_output[:, :, -1] = torch.sigmoid(decoder_output[:, :, -1])\n",
    "            output[:, t, :] = decoder_output\n",
    "\n",
    "        return output\n",
    "\n",
    "\n",
    "\n"
   ]
  },
  {
   "cell_type": "code",
   "execution_count": 5,
   "id": "3a6bcf47-6691-4914-be0e-e50fe6d0f21b",
   "metadata": {},
   "outputs": [],
   "source": [
    "batch = {}\n",
    "batch['c'] = torch.tensor([alpha_to_num[c] for c in  r\"\"\"\" I'll try to\"\"\"]).unsqueeze(0).to(DEVICE)\n",
    "batch['c_len'] = torch.tensor([len(batch['c'])]).unsqueeze(0).to(DEVICE)\n",
    "\n",
    "batch_seq_char = batch['c']\n",
    "batch_seq_char_len = batch['c_len']\n",
    "\n",
    "output = predict(hand.model.to(DEVICE), batch_seq_char, batch_seq_char_len, 612)\n",
    "output[:, :, -1] = 0"
   ]
  },
  {
   "cell_type": "code",
   "execution_count": 6,
   "id": "b7c222b2-8ef5-4a15-8f34-0c4dd54741fd",
   "metadata": {},
   "outputs": [
    {
     "data": {
      "text/plain": [
       "tensor([[[ 0.0000,  0.0000,  0.0000],\n",
       "         [-0.5407, -0.2865,  0.0000],\n",
       "         [-0.6736, -0.9253,  0.0000],\n",
       "         ...,\n",
       "         [29.6050, -3.7728,  0.0000],\n",
       "         [29.2165, -6.0678,  0.0000],\n",
       "         [30.5831, -6.6985,  0.0000]]], device='cuda:0', grad_fn=<CopySlices>)"
      ]
     },
     "execution_count": 6,
     "metadata": {},
     "output_type": "execute_result"
    }
   ],
   "source": [
    "output"
   ]
  },
  {
   "cell_type": "code",
   "execution_count": 20,
   "id": "e3bb7c3c-2d77-41b5-b9d0-ecbb35f32277",
   "metadata": {},
   "outputs": [],
   "source": [
    "filename = \"hello.svg\"\n",
    "hand._draw(strokes=output.cpu().detach().numpy(), lines=[\"hello\"], filename=filename)"
   ]
  },
  {
   "cell_type": "code",
   "execution_count": 22,
   "id": "59951e0c-2dd3-49bc-8db4-42af7b09cb0b",
   "metadata": {},
   "outputs": [
    {
     "name": "stdout",
     "output_type": "stream",
     "text": [
      "torch.Size([11615, 1200, 3])\n"
     ]
    }
   ],
   "source": [
    "data_cols = ['x', 'x_len', 'c', 'c_len', 'w_id']\n",
    "data_dir = \"data/processed\"\n",
    "data = []\n",
    "\n",
    "for col in data_cols:\n",
    "    data.append(\n",
    "        torch.from_numpy(\n",
    "            np.load(os.path.join(data_dir, '{}.npy'.format(col)))\n",
    "        ).to(DEVICE)\n",
    "    )\n",
    "data[2] = data[2].type(torch.int) # int8 is not compatible with Pytorch\n",
    "print(data[0].shape)"
   ]
  },
  {
   "cell_type": "code",
   "execution_count": 72,
   "id": "a851b880-c2d7-477f-841a-68927aa14ac8",
   "metadata": {},
   "outputs": [],
   "source": [
    "output = output.cpu().detach()"
   ]
  },
  {
   "cell_type": "code",
   "execution_count": 73,
   "id": "5a326557-3985-413e-8e2a-00a8a6cee4b9",
   "metadata": {},
   "outputs": [],
   "source": [
    "x_len = output.shape[1]\n",
    "x = output[0]\n",
    "abs_x = torch.cumsum(x, dim=0)"
   ]
  },
  {
   "cell_type": "code",
   "execution_count": 74,
   "id": "6944bb5b-47e0-45aa-a4aa-3d8d71ae3ef2",
   "metadata": {},
   "outputs": [
    {
     "data": {
      "image/png": "[encoded data removed]",
      "text/plain": [
       "<Figure size 432x288 with 1 Axes>"
      ]
     },
     "metadata": {
      "needs_background": "light"
     },
     "output_type": "display_data"
    }
   ],
   "source": [
    "import matplotlib.pyplot as plt\n",
    "\n",
    "# for t in range(x_len):\n",
    "coord_x = abs_x[:600, 0]\n",
    "coord_y = abs_x[:600, 1]\n",
    "plt.scatter(coord_x.cpu(), coord_y.cpu(), 3)\n",
    "plt.savefig(\"{}-file.jpg\".format(t))\n",
    "plt.axis('equal')\n",
    "plt.show()"
   ]
  },
  {
   "cell_type": "code",
   "execution_count": 43,
   "id": "09820fcd-853d-4be5-aebf-9ddd72a37192",
   "metadata": {},
   "outputs": [
    {
     "data": {
      "text/plain": [
       "torch.Size([1, 1])"
      ]
     },
     "execution_count": 43,
     "metadata": {},
     "output_type": "execute_result"
    }
   ],
   "source": [
    "batch_seq_char_len.shape"
   ]
  }
 ],
 "metadata": {
  "kernelspec": {
   "display_name": "Python 3",
   "language": "python",
   "name": "python3"
  },
  "language_info": {
   "codemirror_mode": {
    "name": "ipython",
    "version": 3
   },
   "file_extension": ".py",
   "mimetype": "text/x-python",
   "name": "python",
   "nbconvert_exporter": "python",
   "pygments_lexer": "ipython3",
   "version": "3.7.12"
  }
 },
 "nbformat": 4,
 "nbformat_minor": 5
}
